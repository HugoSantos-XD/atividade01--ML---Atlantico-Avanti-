{
 "cells": [
  {
   "cell_type": "markdown",
   "metadata": {},
   "source": [
    "## 01. Explique, com suas palavras, o que é machine learning?"
   ]
  },
  {
   "cell_type": "markdown",
   "metadata": {},
   "source": [
    " É uma área da inteligência artificial que se concentra no desenvolvimento de algoritmos e técnicas que permitem aos computadores aprender a partir de dados e realizar tarefas específicas sem serem explicitamente programados para elas. Em vez de seguir instruções específicas, os sistemas de machine learning utilizam padrões e inferências para aprender com os dados e fazer previsões ou tomar decisões."
   ]
  },
  {
   "cell_type": "markdown",
   "metadata": {},
   "source": [
    "## 02. Explique o conceito de conjunto de treinamento, conjunto de validação e conjunto de teste em machine learning."
   ]
  },
  {
   "cell_type": "markdown",
   "metadata": {},
   "source": [
    "O **conjunto de treinamento** é usado para treinar o modelo de machine learning. Ele consiste em exemplos de dados (entradas e suas saídas correspondentes) nos quais o modelo aprende durante o processo de treinamento. Os parâmetros do modelo são ajustados iterativamente para minimizar a diferença entre as previsões do modelo e os resultados reais nos dados de treinamento. \n",
    "\n",
    "O **conjunto de validação** é usado para ajustar os hiperparâmetros do modelo e avaliar seu desempenho durante o treinamento. Hiperparâmetros são configurações que não são aprendidas pelo modelo durante o treinamento, como a taxa de aprendizado em redes neurais ou a profundidade de uma árvore de decisão. Ao ajustar os hiperparâmetros com base no desempenho no conjunto de validação, evita-se o ajuste excessivo (overfitting) do modelo aos dados de treinamento. \n",
    "\n",
    "O **conjunto de teste** é usado para avaliar o desempenho final do modelo após o treinamento estar completo e os hiperparâmetros terem sido ajustados usando o conjunto de validação. Ele contém dados que não foram vistos pelo modelo durante o treinamento ou ajuste de hiperparâmetros."
   ]
  },
  {
   "cell_type": "markdown",
   "metadata": {},
   "source": [
    "## 03. Explique como você lidaria com dados ausentes em um conjunto de dados de treinamento."
   ]
  },
  {
   "cell_type": "markdown",
   "metadata": {},
   "source": [
    "**Remoção** de dados ausentes; remover as instâncias (linhas) ou características (colunas) que contenham dados ausentes. Isso pode ser apropriado se os dados ausentes forem poucos em relação ao tamanho do conjunto de dados ou se não forem críticos para o problema em questão.\n",
    "E a outra solução seria **preenchimento** dos dados ausentes com valores padrão,extraindo esse valores numéricos da média, mediana ou moda \n",
    "\n"
   ]
  },
  {
   "cell_type": "markdown",
   "metadata": {},
   "source": [
    "## 04. O que é uma matriz de confusão e como ela é usada para avaliar o desempenho de um modelo preditivo?"
   ]
  },
  {
   "cell_type": "markdown",
   "metadata": {},
   "source": [
    "Tabela que é frequentemente usada para descrever o desempenho de um modelo de classificação em um conjunto de dados de teste para os quais os rótulos verdadeiros são conhecidos. Ela compara as previsões feitas pelo modelo com os rótulos verdadeiros e organiza os resultados em uma tabela que mostra as quatro combinações possíveis de previsões e rótulos verdadeiros:\n",
    "\n",
    "**Verdadeiro Positivo (VP)**: As instâncias que foram corretamente classificadas como positivas pelo modelo.\n",
    "**Falso Positivo (FP)**: As instâncias que foram incorretamente classificadas como positivas pelo modelo (quando na verdade são negativas).\n",
    "**Falso Negativo (FN)**: As instâncias que foram incorretamente classificadas como negativas pelo modelo (quando na verdade são positivas).\n",
    "**Verdadeiro Negativo (VN)**: As instâncias que foram corretamente classificadas como negativas pelo modelo."
   ]
  },
  {
   "cell_type": "markdown",
   "metadata": {},
   "source": [
    "## 05. Em quais áreas (tais como construção civil, agricultura, saúde, manufatura, entre outras) você acha mais interessante aplicar algoritmos de machine learning?"
   ]
  },
  {
   "cell_type": "markdown",
   "metadata": {},
   "source": [
    "Acredito que técnicas de machine learning na segurança pública seria de grande ajuda no combate ao crime de forma geral, já que nosso pais está se tornando cade vez mais violento, entraria os **algoritmos de previsão** de crime, que ajudaria a prever onde e quandos os crimes podem ocorrer com base nos dados históricos, registros de ocorrências policiais. Ademais a **detecção de anomalias** pode identificar padrões incomuns nos dados, o que pode indicar atividades suspeitas, como fraude, atividade criminosa ou ameaças à segurança pública. Isso pode ser aplicado em várias áreas, como monitoramento de câmeras de segurança, análise de transações financeiras e detecção de comportamento anormal em redes de comunicação."
   ]
  }
 ],
 "metadata": {
  "kernelspec": {
   "display_name": "Python 3",
   "language": "python",
   "name": "python3"
  },
  "language_info": {
   "codemirror_mode": {
    "name": "ipython",
    "version": 3
   },
   "file_extension": ".py",
   "mimetype": "text/x-python",
   "name": "python",
   "nbconvert_exporter": "python",
   "pygments_lexer": "ipython3",
   "version": "3.10.6"
  }
 },
 "nbformat": 4,
 "nbformat_minor": 2
}
